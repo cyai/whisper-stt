{
 "cells": [
  {
   "cell_type": "code",
   "execution_count": 3,
   "metadata": {},
   "outputs": [
    {
     "name": "stdout",
     "output_type": "stream",
     "text": [
      "{http://hl7.org/fhir}name {}\n",
      "{http://hl7.org/fhir}family {'value': 'Doe'}\n",
      "{http://hl7.org/fhir}given {'value': 'John'}\n"
     ]
    }
   ],
   "source": [
    "import xml.etree.ElementTree as ET\n",
    "\n",
    "# Sample XML response\n",
    "xml_response = \"\"\"<Patient xmlns=\"http://hl7.org/fhir\">\n",
    "    <id value=\"12345\"/>\n",
    "    <name>\n",
    "        <family value=\"Doe\"/>\n",
    "        <given value=\"John\"/>\n",
    "    </name>\n",
    "    <birthDate value=\"1985-01-01\"/>\n",
    "    <telecom>\n",
    "        <system value=\"phone\"/>\n",
    "        <value value=\"+1-555-555-5555\"/>\n",
    "    </telecom>\n",
    "</Patient>\"\"\"\n",
    "\n",
    "root = ET.fromstring(xml_response)\n",
    "\n",
    "for i in root.iter():\n",
    "    # print(i)\n",
    "\n",
    "    if i.tag.endswith(\"name\"):\n",
    "        for j in i.iter():\n",
    "            print(j.tag, j.attrib)\n"
   ]
  }
 ],
 "metadata": {
  "kernelspec": {
   "display_name": "venv",
   "language": "python",
   "name": "python3"
  },
  "language_info": {
   "codemirror_mode": {
    "name": "ipython",
    "version": 3
   },
   "file_extension": ".py",
   "mimetype": "text/x-python",
   "name": "python",
   "nbconvert_exporter": "python",
   "pygments_lexer": "ipython3",
   "version": "3.9.13"
  }
 },
 "nbformat": 4,
 "nbformat_minor": 2
}
